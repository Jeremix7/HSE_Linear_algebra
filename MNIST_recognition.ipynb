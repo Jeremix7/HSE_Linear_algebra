{
  "cells": [
    {
      "cell_type": "markdown",
      "metadata": {
        "id": "zJlE7LgVBmUY",
        "nbgrader": {
          "grade": false,
          "grade_id": "cell-85b42325683cce03",
          "locked": true,
          "schema_version": 3,
          "solution": false,
          "task": false
        }
      },
      "source": [
        "# MNIST recognition\n",
        "\n",
        "In this notebook we will be working with the MNIST numbers dataset, where training data consist of pictures of digits, and the target value is the digit itself."
      ]
    },
    {
      "cell_type": "markdown",
      "metadata": {
        "id": "yXwgZx4zNbRZ",
        "nbgrader": {
          "grade": false,
          "grade_id": "cell-aaabae287f8e07b9",
          "locked": true,
          "schema_version": 3,
          "solution": false,
          "task": false
        }
      },
      "source": [
        "First, we import the necessary libraries."
      ]
    },
    {
      "cell_type": "code",
      "execution_count": 143,
      "metadata": {
        "id": "kMBwuxiCBmUf"
      },
      "outputs": [],
      "source": [
        "import numpy as np\n",
        "from numpy.linalg import svd\n",
        "import matplotlib.pyplot as plt\n",
        "from sklearn.decomposition import PCA\n",
        "from sklearn.svm import LinearSVC\n",
        "from sklearn.metrics import accuracy_score\n",
        "from sklearn.preprocessing import StandardScaler"
      ]
    },
    {
      "cell_type": "markdown",
      "metadata": {
        "id": "EhpU83qjBrsO"
      },
      "source": [
        "Now, we read both training and test dataset as arrays."
      ]
    },
    {
      "cell_type": "code",
      "execution_count": 144,
      "metadata": {
        "id": "fg9JsZ70BmUa"
      },
      "outputs": [],
      "source": [
        "data = np.load('mnist.npz')\n",
        "X_test_total, X_train_total, y_train_total, y_test_total = data['x_test'], data['x_train'], data['y_train'], data['y_test']"
      ]
    },
    {
      "cell_type": "markdown",
      "metadata": {
        "id": "M-GsL4osovz3"
      },
      "source": [
        "Let's select two digits that we will be learning to separate, for example 3 and 8."
      ]
    },
    {
      "cell_type": "code",
      "execution_count": 145,
      "metadata": {
        "id": "oWgDAtcnpA7a"
      },
      "outputs": [],
      "source": [
        "num1, num2 = 3, 8"
      ]
    },
    {
      "cell_type": "markdown",
      "metadata": {
        "id": "0qr-a0lnLCSH"
      },
      "source": [
        "Let us form the lists of indices i such that the target of i-th object of our training data is either num1 or num2. Do the same for the test dataset."
      ]
    },
    {
      "cell_type": "code",
      "execution_count": 146,
      "metadata": {
        "id": "35Zf01xgpsHq"
      },
      "outputs": [],
      "source": [
        "train_indx = [y == num1 or y == num2 for y in y_train_total]\n",
        "test_indx = [y == num1 or y == num2 for y in y_test_total]"
      ]
    },
    {
      "cell_type": "markdown",
      "metadata": {
        "id": "CJwF_Ux9LBVK"
      },
      "source": [
        "Form new arrays consisting of the data with the target values num1 and num2 only."
      ]
    },
    {
      "cell_type": "code",
      "execution_count": 147,
      "metadata": {
        "id": "NJuZq_jdooq2"
      },
      "outputs": [],
      "source": [
        "X_train, y_train = X_train_total[train_indx], y_train_total[train_indx]\n",
        "X_test, y_test = X_test_total[test_indx], y_test_total[test_indx]"
      ]
    },
    {
      "cell_type": "markdown",
      "metadata": {
        "id": "OU0lGhGNBmUl"
      },
      "source": [
        "## Looking at the data"
      ]
    },
    {
      "cell_type": "markdown",
      "metadata": {
        "id": "49qpdwwBNmcO"
      },
      "source": [
        "Let us check the sizes of the datasets and the shape of one image."
      ]
    },
    {
      "cell_type": "code",
      "execution_count": 148,
      "metadata": {
        "colab": {
          "base_uri": "https://localhost:8080/",
          "height": 102
        },
        "id": "hVKvbThsBmUn",
        "outputId": "40a2d397-8757-4329-d7ae-d5a8434d44ca"
      },
      "outputs": [
        {
          "name": "stdout",
          "output_type": "stream",
          "text": [
            "Data shapes: \n",
            "X_train:  (11982, 28, 28)\n",
            "y_train:  (11982,)\n",
            "X_test:  (1984, 28, 28)\n",
            "y_test:  (1984,)\n"
          ]
        }
      ],
      "source": [
        "print('Data shapes: ')\n",
        "print('X_train: ', X_train.shape)\n",
        "print('y_train: ', y_train.shape)\n",
        "print('X_test: ', X_test.shape)\n",
        "print('y_test: ', y_test.shape)"
      ]
    },
    {
      "cell_type": "code",
      "execution_count": 149,
      "metadata": {
        "colab": {
          "base_uri": "https://localhost:8080/",
          "height": 34
        },
        "id": "P1EklRAaBmUr",
        "outputId": "835c6843-fdb0-4233-eef3-389c10a61df5"
      },
      "outputs": [
        {
          "data": {
            "text/plain": [
              "(11982, 1984)"
            ]
          },
          "execution_count": 149,
          "metadata": {},
          "output_type": "execute_result"
        }
      ],
      "source": [
        "n_train = X_train.shape[0]\n",
        "n_test = X_test.shape[0]\n",
        "\n",
        "n_train, n_test"
      ]
    },
    {
      "cell_type": "code",
      "execution_count": 150,
      "metadata": {
        "colab": {
          "base_uri": "https://localhost:8080/",
          "height": 51
        },
        "id": "FZmNEYdDBmUv",
        "outputId": "17de9137-1fef-4bd4-ef41-ed998e47b0c6"
      },
      "outputs": [
        {
          "name": "stdout",
          "output_type": "stream",
          "text": [
            "Shape of one item: \n",
            "(28, 28)\n"
          ]
        }
      ],
      "source": [
        "print('Shape of one item: ')\n",
        "print(X_train[0].shape)"
      ]
    },
    {
      "cell_type": "markdown",
      "metadata": {
        "id": "ERvQjZU5BmU0"
      },
      "source": [
        "Train data are images of digits."
      ]
    },
    {
      "cell_type": "code",
      "execution_count": 151,
      "metadata": {
        "colab": {
          "base_uri": "https://localhost:8080/",
          "height": 441
        },
        "id": "lWsCw2hQBmU0",
        "outputId": "6c9968ce-e647-4fc4-ee06-4ab055cc98e9"
      },
      "outputs": [
        {
          "data": {
            "image/png": "[encoded data removed]",
            "text/plain": [
              "<Figure size 600x600 with 9 Axes>"
            ]
          },
          "metadata": {},
          "output_type": "display_data"
        }
      ],
      "source": [
        "plt.figure(figsize=(6,6))\n",
        "a, b = 3, 3\n",
        "for i in range(a*b):\n",
        "    plt.subplot(b, a, i+1)\n",
        "    plt.imshow(X_train[i], cmap='gray')\n",
        "plt.tight_layout()\n",
        "plt.show()"
      ]
    },
    {
      "cell_type": "markdown",
      "metadata": {
        "id": "mt2hv7PSBmU4"
      },
      "source": [
        "Target values are numbers."
      ]
    },
    {
      "cell_type": "code",
      "execution_count": 152,
      "metadata": {
        "colab": {
          "base_uri": "https://localhost:8080/",
          "height": 34
        },
        "id": "3ZHMwxyHBmU5",
        "outputId": "04e1fff8-5b7a-48c3-9bbe-855d5bf12011"
      },
      "outputs": [
        {
          "data": {
            "text/plain": [
              "array([3, 3, 3, 8, 3, 3, 8, 8, 3, 8, 3, 3, 8, 3, 8, 3, 8, 8, 3],\n",
              "      dtype=uint8)"
            ]
          },
          "execution_count": 152,
          "metadata": {},
          "output_type": "execute_result"
        }
      ],
      "source": [
        "y_train[:19]"
      ]
    },
    {
      "cell_type": "markdown",
      "metadata": {
        "id": "D96SG2RlCYjK"
      },
      "source": [
        "## Task 1"
      ]
    },
    {
      "cell_type": "markdown",
      "metadata": {
        "id": "qynX76dNt1NU"
      },
      "source": [
        "### Task 1.1\n",
        "Now our data is 3-dimensional of shape (number of images, n_pixels, n_pixels). To work with PCA and SVM we need to flatten the images by turning each of them into an array of shape (n_pixels x n_pixels, )."
      ]
    },
    {
      "cell_type": "code",
      "execution_count": 153,
      "metadata": {
        "id": "WD9ThdCMBmVG"
      },
      "outputs": [],
      "source": [
        "def flatten_image(X):\n",
        "    return np.ravel(X)"
      ]
    },
    {
      "cell_type": "code",
      "execution_count": 154,
      "metadata": {
        "id": "AWAJJfmDBmVK"
      },
      "outputs": [
        {
          "data": {
            "text/plain": [
              "((11982, 784), (1984, 784))"
            ]
          },
          "execution_count": 154,
          "metadata": {},
          "output_type": "execute_result"
        }
      ],
      "source": [
        "X_train_flat = np.array([flatten_image(img) for img in X_train])\n",
        "X_test_flat = np.array([flatten_image(img) for img in X_test])\n",
        "X_train_flat.shape, X_test_flat.shape"
      ]
    },
    {
      "cell_type": "markdown",
      "metadata": {
        "id": "3BIAKuWGukeC"
      },
      "source": [
        "PCA works best when the data is scaled (think, why?), so let's scale our data. We will use [StandartScaler](https://scikit-learn.org/stable/modules/generated/sklearn.preprocessing.StandardScaler.html) for it. Note, that scaling replaces a collection of vectors x by the collection of the vectors $x' = (x-M)/D$, where $M$ is the mean vector of\n",
        "the sample, $D$ is the vector of standard deviations of all components of the vectors, and the division is component-wise. So, the scaled collection has the same size as the original one, and each column has 0 mean and unit standard deviation.\n"
      ]
    },
    {
      "cell_type": "code",
      "execution_count": 155,
      "metadata": {
        "id": "AK1W8FecV9KZ"
      },
      "outputs": [],
      "source": [
        "scaler = StandardScaler()\n",
        "X_train_flat = scaler.fit_transform(X_train_flat)\n",
        "X_test_flat = scaler.transform(X_test_flat)"
      ]
    },
    {
      "cell_type": "markdown",
      "metadata": {
        "id": "Qiq0waK2Brsb"
      },
      "source": [
        "### Question 1.2"
      ]
    },
    {
      "cell_type": "markdown",
      "metadata": {
        "id": "aW4UQRSmlCg5"
      },
      "source": [
        "Please write your answer on the impact of scaling below. Why does scaling help PCA? If your idea need some computer experiments for confirmation (say, training and accuracy calculations  with non-scaled data), please provide the code here as well."
      ]
    },
    {
      "cell_type": "markdown",
      "metadata": {
        "id": "EzU4FS2X76e9"
      },
      "source": [
        "Scaling the data avoids problems in cases where objects with large values can have a big impact on the result, while objects with small values may not be taken into account enough. Without scaling, data with wider ranges of values may seem more significant, which will distort the results."
      ]
    },
    {
      "cell_type": "code",
      "execution_count": 156,
      "metadata": {
        "id": "vlCJN_Pqlb4C"
      },
      "outputs": [
        {
          "name": "stderr",
          "output_type": "stream",
          "text": [
            "c:\\Users\\y2966\\anaconda3\\Lib\\site-packages\\sklearn\\svm\\_classes.py:32: FutureWarning: The default value of `dual` will change from `True` to `'auto'` in 1.5. Set the value of `dual` explicitly to suppress the warning.\n",
            "  warnings.warn(\n"
          ]
        },
        {
          "name": "stderr",
          "output_type": "stream",
          "text": [
            "c:\\Users\\y2966\\anaconda3\\Lib\\site-packages\\sklearn\\svm\\_base.py:1242: ConvergenceWarning: Liblinear failed to converge, increase the number of iterations.\n",
            "  warnings.warn(\n"
          ]
        },
        {
          "name": "stdout",
          "output_type": "stream",
          "text": [
            "Accuracy using unscaled data: 0.8744959677419355\n"
          ]
        },
        {
          "name": "stderr",
          "output_type": "stream",
          "text": [
            "c:\\Users\\y2966\\anaconda3\\Lib\\site-packages\\sklearn\\svm\\_classes.py:32: FutureWarning: The default value of `dual` will change from `True` to `'auto'` in 1.5. Set the value of `dual` explicitly to suppress the warning.\n",
            "  warnings.warn(\n"
          ]
        },
        {
          "name": "stdout",
          "output_type": "stream",
          "text": [
            "Accuracy using scaled data: 0.9581653225806451\n"
          ]
        },
        {
          "name": "stderr",
          "output_type": "stream",
          "text": [
            "c:\\Users\\y2966\\anaconda3\\Lib\\site-packages\\sklearn\\svm\\_base.py:1242: ConvergenceWarning: Liblinear failed to converge, increase the number of iterations.\n",
            "  warnings.warn(\n"
          ]
        }
      ],
      "source": [
        "clf = LinearSVC(random_state=42)\n",
        "X_train_flat_test = np.array([flatten_image(img) for img in X_train])\n",
        "X_test_flat_test = np.array([flatten_image(img) for img in X_test])\n",
        "\n",
        "clf.fit(X_train_flat_test, y_train)\n",
        "y_pred_unscaled = clf.predict(X_test_flat_test)\n",
        "accuracy_score_unscaled = accuracy_score(y_test, y_pred_unscaled)\n",
        "print(\"Accuracy using unscaled data:\", accuracy_score_unscaled)\n",
        "\n",
        "X_train_scaled = scaler.fit_transform(X_train_flat_test)\n",
        "X_test_scaled = scaler.transform(X_test_flat_test)\n",
        "clf.fit(X_train_scaled, y_train)\n",
        "y_pred_scaled = clf.predict(X_test_scaled)\n",
        "accuracy_scaled = accuracy_score(y_test, y_pred_scaled)\n",
        "print(\"Accuracy using scaled data:\", accuracy_scaled)"
      ]
    },
    {
      "cell_type": "markdown",
      "metadata": {
        "id": "MPYv0JqzQRKA"
      },
      "source": [
        "Now, we call PCA and reduce the number of components for each vector."
      ]
    },
    {
      "cell_type": "code",
      "execution_count": 157,
      "metadata": {
        "id": "H6s30_saBmVO"
      },
      "outputs": [],
      "source": [
        "pca = PCA(n_components=128, random_state=42)\n",
        "X_train_flat = pca.fit_transform(X_train_flat)"
      ]
    },
    {
      "cell_type": "code",
      "execution_count": 158,
      "metadata": {
        "id": "bKRDnygcBmVS"
      },
      "outputs": [],
      "source": [
        "X_test_flat = pca.transform(X_test_flat)"
      ]
    },
    {
      "cell_type": "code",
      "execution_count": 159,
      "metadata": {
        "colab": {
          "base_uri": "https://localhost:8080/",
          "height": 34
        },
        "id": "MIkIzz4ACjP5",
        "outputId": "dd304091-8823-41a9-e39a-744e9dedaeb0"
      },
      "outputs": [
        {
          "data": {
            "text/plain": [
              "((11982, 128), (1984, 128))"
            ]
          },
          "execution_count": 159,
          "metadata": {},
          "output_type": "execute_result"
        }
      ],
      "source": [
        "X_train_flat.shape, X_test_flat.shape"
      ]
    },
    {
      "cell_type": "markdown",
      "metadata": {
        "id": "HjVucBstBrse"
      },
      "source": [
        "### Question 1.3"
      ]
    },
    {
      "cell_type": "markdown",
      "metadata": {
        "id": "s-g0gIUdV6a4"
      },
      "source": [
        "What is the ratio of the memory used for the data `compressed' by PCA and the one used for the original data?"
      ]
    },
    {
      "cell_type": "markdown",
      "metadata": {
        "id": "YxBNsRinBrse"
      },
      "source": [
        "The ratio of the amount of memory used for the data \"compressed\" by PCA and the amount of memory used for the source data is equal to 128/784 = 0.16"
      ]
    },
    {
      "cell_type": "markdown",
      "metadata": {
        "id": "tExdDvxVQb-8"
      },
      "source": [
        "Now, we use SVM with linear kernel to separate the two classes."
      ]
    },
    {
      "cell_type": "code",
      "execution_count": 160,
      "metadata": {
        "id": "msj7fbHnBmVW"
      },
      "outputs": [
        {
          "name": "stderr",
          "output_type": "stream",
          "text": [
            "c:\\Users\\y2966\\anaconda3\\Lib\\site-packages\\sklearn\\svm\\_classes.py:32: FutureWarning: The default value of `dual` will change from `True` to `'auto'` in 1.5. Set the value of `dual` explicitly to suppress the warning.\n",
            "  warnings.warn(\n"
          ]
        },
        {
          "name": "stdout",
          "output_type": "stream",
          "text": [
            "CPU times: total: 5.86 s\n",
            "Wall time: 6.4 s\n"
          ]
        },
        {
          "name": "stderr",
          "output_type": "stream",
          "text": [
            "c:\\Users\\y2966\\anaconda3\\Lib\\site-packages\\sklearn\\svm\\_base.py:1242: ConvergenceWarning: Liblinear failed to converge, increase the number of iterations.\n",
            "  warnings.warn(\n"
          ]
        },
        {
          "data": {
            "text/html": [
              "<style>#sk-container-id-2 {color: black;}#sk-container-id-2 pre{padding: 0;}#sk-container-id-2 div.sk-toggleable {background-color: white;}#sk-container-id-2 label.sk-toggleable__label {cursor: pointer;display: block;width: 100%;margin-bottom: 0;padding: 0.3em;box-sizing: border-box;text-align: center;}#sk-container-id-2 label.sk-toggleable__label-arrow:before {content: \"▸\";float: left;margin-right: 0.25em;color: #696969;}#sk-container-id-2 label.sk-toggleable__label-arrow:hover:before {color: black;}#sk-container-id-2 div.sk-estimator:hover label.sk-toggleable__label-arrow:before {color: black;}#sk-container-id-2 div.sk-toggleable__content {max-height: 0;max-width: 0;overflow: hidden;text-align: left;background-color: #f0f8ff;}#sk-container-id-2 div.sk-toggleable__content pre {margin: 0.2em;color: black;border-radius: 0.25em;background-color: #f0f8ff;}#sk-container-id-2 input.sk-toggleable__control:checked~div.sk-toggleable__content {max-height: 200px;max-width: 100%;overflow: auto;}#sk-container-id-2 input.sk-toggleable__control:checked~label.sk-toggleable__label-arrow:before {content: \"▾\";}#sk-container-id-2 div.sk-estimator input.sk-toggleable__control:checked~label.sk-toggleable__label {background-color: #d4ebff;}#sk-container-id-2 div.sk-label input.sk-toggleable__control:checked~label.sk-toggleable__label {background-color: #d4ebff;}#sk-container-id-2 input.sk-hidden--visually {border: 0;clip: rect(1px 1px 1px 1px);clip: rect(1px, 1px, 1px, 1px);height: 1px;margin: -1px;overflow: hidden;padding: 0;position: absolute;width: 1px;}#sk-container-id-2 div.sk-estimator {font-family: monospace;background-color: #f0f8ff;border: 1px dotted black;border-radius: 0.25em;box-sizing: border-box;margin-bottom: 0.5em;}#sk-container-id-2 div.sk-estimator:hover {background-color: #d4ebff;}#sk-container-id-2 div.sk-parallel-item::after {content: \"\";width: 100%;border-bottom: 1px solid gray;flex-grow: 1;}#sk-container-id-2 div.sk-label:hover label.sk-toggleable__label {background-color: #d4ebff;}#sk-container-id-2 div.sk-serial::before {content: \"\";position: absolute;border-left: 1px solid gray;box-sizing: border-box;top: 0;bottom: 0;left: 50%;z-index: 0;}#sk-container-id-2 div.sk-serial {display: flex;flex-direction: column;align-items: center;background-color: white;padding-right: 0.2em;padding-left: 0.2em;position: relative;}#sk-container-id-2 div.sk-item {position: relative;z-index: 1;}#sk-container-id-2 div.sk-parallel {display: flex;align-items: stretch;justify-content: center;background-color: white;position: relative;}#sk-container-id-2 div.sk-item::before, #sk-container-id-2 div.sk-parallel-item::before {content: \"\";position: absolute;border-left: 1px solid gray;box-sizing: border-box;top: 0;bottom: 0;left: 50%;z-index: -1;}#sk-container-id-2 div.sk-parallel-item {display: flex;flex-direction: column;z-index: 1;position: relative;background-color: white;}#sk-container-id-2 div.sk-parallel-item:first-child::after {align-self: flex-end;width: 50%;}#sk-container-id-2 div.sk-parallel-item:last-child::after {align-self: flex-start;width: 50%;}#sk-container-id-2 div.sk-parallel-item:only-child::after {width: 0;}#sk-container-id-2 div.sk-dashed-wrapped {border: 1px dashed gray;margin: 0 0.4em 0.5em 0.4em;box-sizing: border-box;padding-bottom: 0.4em;background-color: white;}#sk-container-id-2 div.sk-label label {font-family: monospace;font-weight: bold;display: inline-block;line-height: 1.2em;}#sk-container-id-2 div.sk-label-container {text-align: center;}#sk-container-id-2 div.sk-container {/* jupyter's `normalize.less` sets `[hidden] { display: none; }` but bootstrap.min.css set `[hidden] { display: none !important; }` so we also need the `!important` here to be able to override the default hidden behavior on the sphinx rendered scikit-learn.org. See: https://github.com/scikit-learn/scikit-learn/issues/21755 */display: inline-block !important;position: relative;}#sk-container-id-2 div.sk-text-repr-fallback {display: none;}</style><div id=\"sk-container-id-2\" class=\"sk-top-container\"><div class=\"sk-text-repr-fallback\"><pre>LinearSVC(random_state=42)</pre><b>In a Jupyter environment, please rerun this cell to show the HTML representation or trust the notebook. <br />On GitHub, the HTML representation is unable to render, please try loading this page with nbviewer.org.</b></div><div class=\"sk-container\" hidden><div class=\"sk-item\"><div class=\"sk-estimator sk-toggleable\"><input class=\"sk-toggleable__control sk-hidden--visually\" id=\"sk-estimator-id-2\" type=\"checkbox\" checked><label for=\"sk-estimator-id-2\" class=\"sk-toggleable__label sk-toggleable__label-arrow\">LinearSVC</label><div class=\"sk-toggleable__content\"><pre>LinearSVC(random_state=42)</pre></div></div></div></div></div>"
            ],
            "text/plain": [
              "LinearSVC(random_state=42)"
            ]
          },
          "execution_count": 160,
          "metadata": {},
          "output_type": "execute_result"
        }
      ],
      "source": [
        "%%time\n",
        "clf = LinearSVC(random_state=42)\n",
        "clf.fit(X_train_flat, y_train)"
      ]
    },
    {
      "cell_type": "markdown",
      "metadata": {
        "id": "UiQicIFIQMf3"
      },
      "source": [
        "Now, let us make the predictions and calculate the accuracy, that is, the ratio of the true predictions to the test sample size.  Use [accuracy score](https://scikit-learn.org/stable/modules/generated/sklearn.metrics.accuracy_score.html#sklearn.metrics.accuracy_score) as the quality metric here.\n",
        "\n",
        "$$accuracy(y\\_true, y\\_pred) = \\frac{1}{n}\\sum_{i=1}^n [y\\_true_i=y\\_pred_i],$$ where $[a=b]=1$, if $a=b$, and $0$ otherwise."
      ]
    },
    {
      "cell_type": "code",
      "execution_count": 161,
      "metadata": {
        "id": "IWC3hQAMCcPe"
      },
      "outputs": [
        {
          "name": "stdout",
          "output_type": "stream",
          "text": [
            "Test accuracy:  0.9667338709677419\n"
          ]
        }
      ],
      "source": [
        "y_pred = clf.predict(X_test_flat)\n",
        "acc = accuracy_score(y_test, y_pred)\n",
        "print(\"Test accuracy: \", acc)"
      ]
    },
    {
      "cell_type": "markdown",
      "metadata": {
        "id": "s4fOnPmPBmWr"
      },
      "source": [
        "Let's try to make our own dataset. We can either make a photo image of an ink-written digit or draw a digit using a graphical editor of your computer or smartphone. Note that the input picture has to be a white number on a black background, like the numbers in the MNIST dataset. It can be either in png or jpeg format. Replace the sample striwith your file name."
      ]
    },
    {
      "cell_type": "code",
      "execution_count": 162,
      "metadata": {
        "id": "GZSU-t3QBmWs"
      },
      "outputs": [],
      "source": [
        "from scipy import misc\n",
        "from PIL import Image"
      ]
    },
    {
      "cell_type": "code",
      "execution_count": 163,
      "metadata": {
        "id": "uqDp92KzBmWv"
      },
      "outputs": [
        {
          "data": {
            "text/plain": [
              "(28, 28)"
            ]
          },
          "execution_count": 163,
          "metadata": {},
          "output_type": "execute_result"
        }
      ],
      "source": [
        "image = Image.open('test_3-4.png').convert('L')\n",
        "new_image = image.resize((28, 28))\n",
        "custom = np.array(new_image)\n",
        "custom.shape"
      ]
    },
    {
      "cell_type": "code",
      "execution_count": 164,
      "metadata": {
        "id": "pYBKXyglBmWz"
      },
      "outputs": [
        {
          "data": {
            "image/png": "[encoded data removed]",
            "text/plain": [
              "<Figure size 640x480 with 1 Axes>"
            ]
          },
          "metadata": {},
          "output_type": "display_data"
        }
      ],
      "source": [
        "plt.imshow(custom, cmap='gray')\n",
        "plt.show()"
      ]
    },
    {
      "cell_type": "markdown",
      "metadata": {
        "id": "qyBWzpsCSJjj"
      },
      "source": [
        "Re-shape your image and make a prediction."
      ]
    },
    {
      "cell_type": "code",
      "execution_count": 165,
      "metadata": {
        "id": "bKy0FPyJ4dg2"
      },
      "outputs": [
        {
          "data": {
            "text/plain": [
              "(1, 128)"
            ]
          },
          "execution_count": 165,
          "metadata": {},
          "output_type": "execute_result"
        }
      ],
      "source": [
        "custom = flatten_image(custom).reshape(1, -1)\n",
        "custom = scaler.transform(custom)\n",
        "custom = pca.transform(custom)\n",
        "custom.shape"
      ]
    },
    {
      "cell_type": "code",
      "execution_count": 166,
      "metadata": {
        "id": "80S853_6BmW3"
      },
      "outputs": [
        {
          "data": {
            "text/plain": [
              "array([3], dtype=uint8)"
            ]
          },
          "execution_count": 166,
          "metadata": {},
          "output_type": "execute_result"
        }
      ],
      "source": [
        "clf.predict(custom)"
      ]
    },
    {
      "cell_type": "markdown",
      "metadata": {
        "id": "6ewG0kFVBrsl"
      },
      "source": [
        "### Question 1.4"
      ]
    },
    {
      "cell_type": "markdown",
      "metadata": {
        "id": "PTwHX91JSUL3"
      },
      "source": [
        "Repeat the above digit recognition procedure with other 5 to 10 hand-written images. Do your experiments confirm the above accuracy estimate? How do you think, why they confirm (or not confirm) it?"
      ]
    },
    {
      "cell_type": "markdown",
      "metadata": {
        "id": "Bn8dlIrY7NWe"
      },
      "source": [
        "10 additional experiments were conducted with different numbers 3 and 8. In 9 out of 10 cases, the desired result was obtained, which approximately corresponds to the obtained accuracy of the model (96.67%). For a more accurate answer, several more series of experiments should be conducted.\n",
        "\n",
        "The previously obtained model accuracy of 96.67% is, in my opinion, a fairly good result. Is it possible to get a higher accuracy? Yes! How do we get it? I think that accuracy can be increased by applying other approaches to building a model (but we haven't had a machine learning course yet, so I don't know what methods can be applied), and we can also increase the amount of data, but provided that they are high-quality and balanced.\n",
        "\n",
        "The accuracy of 96.67% is quite enough for the task of converting handwritten text from a photo into one of the formats of text editors, but at the same time this accuracy won't be enough if we assume we want to make bank transfers from a handwritten statement of the account holder, where the transfer details are indicated in handwriting.\n"
      ]
    },
    {
      "cell_type": "markdown",
      "metadata": {
        "id": "OTa1546Jx2J5"
      },
      "source": [
        "## Task 2\n",
        "Now let's try another approach explained [here](https://technodocbox.com/3D_Graphics/77509408-Handwritten-digit-classification-and-reconstruction-of-marred-images-using-singular-value-decomposition.html) in Section 3. For each digit, we create a new matrix $A$ whose columns are flattened images of this digit. The first several (say, 10) columns of the matrix $U$ from SVD decomposition of $A$ represent a collection of \"typical\" images of this digit. Given an unrecognized flatten image, among average typical flattened images we find the closets one. Its target value is considered as a prediction for the target of the unrecognized image."
      ]
    },
    {
      "cell_type": "markdown",
      "metadata": {
        "id": "JTvWQCV8K9qm"
      },
      "source": [
        "## SVD refesher\n",
        "SVD of a matrix $A$ is a decomposition:\n",
        "$A = U \\Sigma V^T,$ where $U$ and $V$ are orthogonal matrices. In this method we will be utilizing some properties of SVD."
      ]
    },
    {
      "cell_type": "code",
      "execution_count": 167,
      "metadata": {
        "id": "DA9S5BxlimJy"
      },
      "outputs": [],
      "source": [
        "def getSingularVectorsLeft(matrix, number=10): # let's take first 10 numbers\n",
        "    U, _, _ = svd(matrix)\n",
        "    return U[:, :number]"
      ]
    },
    {
      "cell_type": "code",
      "execution_count": 168,
      "metadata": {
        "id": "TXlw7pLMYYNB"
      },
      "outputs": [],
      "source": [
        "def getSingularImage(X_train, y_train, number):\n",
        "    # find images whose target is _number_\n",
        "    indices = np.where(y_train == number)\n",
        "    X_train = X_train[indices]\n",
        "    A = np.array([flatten_image(img) for img in X_train]) # iteratively append new column to form matrix A\n",
        "    left_basis = getSingularVectorsLeft(A.T) # get left singular vectors\n",
        "    print('Iteration finished')\n",
        "    return left_basis"
      ]
    },
    {
      "cell_type": "markdown",
      "metadata": {
        "id": "xUaaUCTNx9ea"
      },
      "source": [
        "Try it first on \"0\"."
      ]
    },
    {
      "cell_type": "code",
      "execution_count": 169,
      "metadata": {
        "id": "CPx60DlKaQ8S"
      },
      "outputs": [
        {
          "name": "stdout",
          "output_type": "stream",
          "text": [
            "Iteration finished\n"
          ]
        }
      ],
      "source": [
        "left_basis = getSingularImage(X_train_total, y_train_total, 0)\n",
        "\n",
        "assert left_basis.shape, (784, 10)"
      ]
    },
    {
      "cell_type": "markdown",
      "metadata": {
        "id": "qeAC9vo8xnMK"
      },
      "source": [
        "### Task 2.1\n",
        "Plot first 9 singular images of the digit 0 taking columns of matrix U and reshaping them back into images 28x28."
      ]
    },
    {
      "cell_type": "code",
      "execution_count": 170,
      "metadata": {
        "colab": {
          "base_uri": "https://localhost:8080/",
          "height": 441
        },
        "id": "VyJGHMhUtBpT",
        "outputId": "44ea8371-5be7-495f-c1c1-b7fa95395361"
      },
      "outputs": [
        {
          "data": {
            "image/png": "[encoded data removed]",
            "text/plain": [
              "<Figure size 600x600 with 9 Axes>"
            ]
          },
          "metadata": {},
          "output_type": "display_data"
        }
      ],
      "source": [
        "#singular images\n",
        "plt.figure(figsize=(6,6))\n",
        "a, b = 3, 3\n",
        "for i in range(a*b):\n",
        "    plt.subplot(b, a, i+1)\n",
        "    img = left_basis[:, i].reshape(28, 28) # ith element of left basis reshaped back to 28x28\n",
        "    plt.imshow(img, cmap='viridis')\n",
        "\n",
        "plt.tight_layout()\n",
        "plt.show()"
      ]
    },
    {
      "cell_type": "markdown",
      "metadata": {
        "id": "VjfFEFmzBrso"
      },
      "source": [
        "### Question 2.2"
      ]
    },
    {
      "cell_type": "markdown",
      "metadata": {
        "id": "24b4QGOI7Vmh"
      },
      "source": [
        "Reflect on properties of the columns of $U_k$. What properties do you think are contained in each of them? Draw more singular images to help you make conclusions"
      ]
    },
    {
      "cell_type": "markdown",
      "metadata": {
        "id": "Gst9OJUY7nMa"
      },
      "source": [
        "Each column of the matrix In represents a vector. Matrix U is orthogonal, so each vector is orthogonal to all the others. When displaying a large number of vectors in the form of an image, we can see that the first images (columns of the matrix U) differ from each other much more strongly than the last ones. As a result of the above, it can be said that the columns of matrix U are responsible for the variability of data and contain information about the direction of the greatest variability, and the first columns contain more variability than the subsequent ones."
      ]
    },
    {
      "cell_type": "markdown",
      "metadata": {
        "id": "cDFZgAv4yLLO"
      },
      "source": [
        "Now let's move on and obtain singular images for all numbers. The matrices $U_k$ from  [the article](https://technodocbox.com/3D_Graphics/77509408-Handwritten-digit-classification-and-reconstruction-of-marred-images-using-singular-value-decomposition.html) are represented as `number_basis_matrices[k]`.\n",
        "This might take a while to finish, feel free to add debug print in your function to know the progress."
      ]
    },
    {
      "cell_type": "code",
      "execution_count": null,
      "metadata": {
        "id": "np3OMUg9hX4L"
      },
      "outputs": [
        {
          "name": "stdout",
          "output_type": "stream",
          "text": [
            "Iteration finished\n",
            "Iteration finished\n",
            "Iteration finished\n",
            "Iteration finished\n",
            "Iteration finished\n",
            "Iteration finished\n",
            "Iteration finished\n",
            "Iteration finished\n",
            "Iteration finished\n",
            "Iteration finished\n"
          ]
        }
      ],
      "source": [
        "number_basis_matrices = [getSingularImage(X_train_total, y_train_total, digit) for digit in range(0, 10)] "
      ]
    },
    {
      "cell_type": "markdown",
      "metadata": {
        "id": "3lSYWDSzyZjQ"
      },
      "source": [
        "### Task 2.3\n",
        "Plot the first singular image of each digit, similarly to the previous task."
      ]
    },
    {
      "cell_type": "code",
      "execution_count": 172,
      "metadata": {
        "colab": {
          "base_uri": "https://localhost:8080/",
          "height": 441
        },
        "id": "2-TS33OpwHVN",
        "outputId": "8c59364c-adb5-459c-ea73-b494d0506b1a"
      },
      "outputs": [
        {
          "data": {
            "image/png": "[encoded data removed]",
            "text/plain": [
              "<Figure size 600x600 with 10 Axes>"
            ]
          },
          "metadata": {},
          "output_type": "display_data"
        }
      ],
      "source": [
        "plt.figure(figsize=(6,6))\n",
        "a, b = 3, 4\n",
        "for i in range(10):\n",
        "    plt.subplot(b, a, i+1)\n",
        "    img = number_basis_matrices[i][:, 0].reshape(28, 28) # first column of U_k in number_basis_matrices[i] reshaped into 28x28 image\n",
        "    plt.imshow(img, cmap='viridis')\n",
        "\n",
        "plt.tight_layout()\n",
        "plt.show()"
      ]
    },
    {
      "cell_type": "code",
      "execution_count": 173,
      "metadata": {
        "colab": {
          "base_uri": "https://localhost:8080/",
          "height": 34
        },
        "id": "cKlHDULozHr1",
        "outputId": "29b6691c-a69b-4843-f9d9-f4f89d0bf80b"
      },
      "outputs": [
        {
          "name": "stdout",
          "output_type": "stream",
          "text": [
            "784\n"
          ]
        }
      ],
      "source": [
        "dim = number_basis_matrices[0].shape[0]\n",
        "print(dim)"
      ]
    },
    {
      "cell_type": "markdown",
      "metadata": {
        "id": "T5XFjCNS8wKt"
      },
      "source": [
        "### Task 2.4"
      ]
    },
    {
      "cell_type": "markdown",
      "metadata": {
        "id": "g4u-9qERyjR-"
      },
      "source": [
        "Here we calculate the new projection matrix for each $U_k$ to apply later in testing:\n",
        "$pr = (I - U_k \\cdot U_{k}^{T})$. Use `numpy.matmul` for matrix multiplication and `numpy.identity` to create an identity matrix. Please note that this operation might also take some time to finish."
      ]
    },
    {
      "cell_type": "code",
      "execution_count": 174,
      "metadata": {
        "id": "_QP7drrelSUz"
      },
      "outputs": [],
      "source": [
        "# create an array of pr for each number\n",
        "numeric_values = [((np.identity(U.shape[0])) - np.matmul(U, U.T)) for U in number_basis_matrices]"
      ]
    },
    {
      "cell_type": "markdown",
      "metadata": {
        "id": "BB_nJGgMzTns"
      },
      "source": [
        "### Task 2.5\n",
        "Implement function utilizing `numeric_values` matrices to predict labels for unknown images. Use `numpy.norm` and enumerate to iterate over numeric values."
      ]
    },
    {
      "cell_type": "code",
      "execution_count": 175,
      "metadata": {
        "id": "tSwJ-iJtlHav"
      },
      "outputs": [],
      "source": [
        "def find_closest(test_value, numeric_values):\n",
        "    # find closest U_k to test_value using norm and return the target digit\n",
        "    stacked_test = test_value.reshape(-1, 1)\n",
        "    difference = [np.linalg.norm(U@stacked_test) for U in numeric_values]\n",
        "    target = difference.index(min(difference))\n",
        "    return target"
      ]
    },
    {
      "cell_type": "code",
      "execution_count": 176,
      "metadata": {
        "id": "-G_FrYu5o87N"
      },
      "outputs": [],
      "source": [
        "# find array of predictions for test values and calculate accuracy in the cell below\n",
        "y_pred = [find_closest(test_value, numeric_values) for test_value in X_test_total]"
      ]
    },
    {
      "cell_type": "code",
      "execution_count": 177,
      "metadata": {
        "id": "MO5pFzGcpoIC"
      },
      "outputs": [
        {
          "name": "stdout",
          "output_type": "stream",
          "text": [
            "[7, 2, 1, 0, 4, 1, 4, 9, 5, 9]\n",
            "[7 2 1 0 4 1 4 9 5 9]\n",
            "0.9485\n"
          ]
        }
      ],
      "source": [
        "acc = accuracy_score(y_test_total, y_pred)\n",
        "print(y_pred[:10])\n",
        "print(y_test_total[:10])\n",
        "print(acc)"
      ]
    },
    {
      "cell_type": "markdown",
      "metadata": {
        "id": "RJ_rqkffzvA7"
      },
      "source": [
        "## Additional task\n",
        "In the first task we trained Linear SVM to separate 3s and 8s. Here you can implement multiclass classification for _all_ numbers in `MNIST`. Use the same function LinearSVC for “one-vs-the-rest” multi-class strategy, see [the documentation](https://scikit-learn.org/stable/modules/svm.html#classification).  Follow the same steps from task 1: scaling, feature selection, training and testing. Is the accuracy of this method greater then the one calculated above?"
      ]
    },
    {
      "cell_type": "markdown",
      "metadata": {
        "id": "-4WYoVtR9kWG"
      },
      "source": [
        "**Note:** Use `random_state=42` for `PCA` and `LinearSVC`. Training `LinearSVC` on all the data might take a while, that's normal."
      ]
    },
    {
      "cell_type": "code",
      "execution_count": 178,
      "metadata": {
        "id": "Whp8oDkz--OL"
      },
      "outputs": [
        {
          "name": "stderr",
          "output_type": "stream",
          "text": [
            "c:\\Users\\y2966\\anaconda3\\Lib\\site-packages\\sklearn\\svm\\_classes.py:32: FutureWarning: The default value of `dual` will change from `True` to `'auto'` in 1.5. Set the value of `dual` explicitly to suppress the warning.\n",
            "  warnings.warn(\n",
            "c:\\Users\\y2966\\anaconda3\\Lib\\site-packages\\sklearn\\svm\\_base.py:1242: ConvergenceWarning: Liblinear failed to converge, increase the number of iterations.\n",
            "  warnings.warn(\n"
          ]
        },
        {
          "data": {
            "text/html": [
              "<style>#sk-container-id-3 {color: black;}#sk-container-id-3 pre{padding: 0;}#sk-container-id-3 div.sk-toggleable {background-color: white;}#sk-container-id-3 label.sk-toggleable__label {cursor: pointer;display: block;width: 100%;margin-bottom: 0;padding: 0.3em;box-sizing: border-box;text-align: center;}#sk-container-id-3 label.sk-toggleable__label-arrow:before {content: \"▸\";float: left;margin-right: 0.25em;color: #696969;}#sk-container-id-3 label.sk-toggleable__label-arrow:hover:before {color: black;}#sk-container-id-3 div.sk-estimator:hover label.sk-toggleable__label-arrow:before {color: black;}#sk-container-id-3 div.sk-toggleable__content {max-height: 0;max-width: 0;overflow: hidden;text-align: left;background-color: #f0f8ff;}#sk-container-id-3 div.sk-toggleable__content pre {margin: 0.2em;color: black;border-radius: 0.25em;background-color: #f0f8ff;}#sk-container-id-3 input.sk-toggleable__control:checked~div.sk-toggleable__content {max-height: 200px;max-width: 100%;overflow: auto;}#sk-container-id-3 input.sk-toggleable__control:checked~label.sk-toggleable__label-arrow:before {content: \"▾\";}#sk-container-id-3 div.sk-estimator input.sk-toggleable__control:checked~label.sk-toggleable__label {background-color: #d4ebff;}#sk-container-id-3 div.sk-label input.sk-toggleable__control:checked~label.sk-toggleable__label {background-color: #d4ebff;}#sk-container-id-3 input.sk-hidden--visually {border: 0;clip: rect(1px 1px 1px 1px);clip: rect(1px, 1px, 1px, 1px);height: 1px;margin: -1px;overflow: hidden;padding: 0;position: absolute;width: 1px;}#sk-container-id-3 div.sk-estimator {font-family: monospace;background-color: #f0f8ff;border: 1px dotted black;border-radius: 0.25em;box-sizing: border-box;margin-bottom: 0.5em;}#sk-container-id-3 div.sk-estimator:hover {background-color: #d4ebff;}#sk-container-id-3 div.sk-parallel-item::after {content: \"\";width: 100%;border-bottom: 1px solid gray;flex-grow: 1;}#sk-container-id-3 div.sk-label:hover label.sk-toggleable__label {background-color: #d4ebff;}#sk-container-id-3 div.sk-serial::before {content: \"\";position: absolute;border-left: 1px solid gray;box-sizing: border-box;top: 0;bottom: 0;left: 50%;z-index: 0;}#sk-container-id-3 div.sk-serial {display: flex;flex-direction: column;align-items: center;background-color: white;padding-right: 0.2em;padding-left: 0.2em;position: relative;}#sk-container-id-3 div.sk-item {position: relative;z-index: 1;}#sk-container-id-3 div.sk-parallel {display: flex;align-items: stretch;justify-content: center;background-color: white;position: relative;}#sk-container-id-3 div.sk-item::before, #sk-container-id-3 div.sk-parallel-item::before {content: \"\";position: absolute;border-left: 1px solid gray;box-sizing: border-box;top: 0;bottom: 0;left: 50%;z-index: -1;}#sk-container-id-3 div.sk-parallel-item {display: flex;flex-direction: column;z-index: 1;position: relative;background-color: white;}#sk-container-id-3 div.sk-parallel-item:first-child::after {align-self: flex-end;width: 50%;}#sk-container-id-3 div.sk-parallel-item:last-child::after {align-self: flex-start;width: 50%;}#sk-container-id-3 div.sk-parallel-item:only-child::after {width: 0;}#sk-container-id-3 div.sk-dashed-wrapped {border: 1px dashed gray;margin: 0 0.4em 0.5em 0.4em;box-sizing: border-box;padding-bottom: 0.4em;background-color: white;}#sk-container-id-3 div.sk-label label {font-family: monospace;font-weight: bold;display: inline-block;line-height: 1.2em;}#sk-container-id-3 div.sk-label-container {text-align: center;}#sk-container-id-3 div.sk-container {/* jupyter's `normalize.less` sets `[hidden] { display: none; }` but bootstrap.min.css set `[hidden] { display: none !important; }` so we also need the `!important` here to be able to override the default hidden behavior on the sphinx rendered scikit-learn.org. See: https://github.com/scikit-learn/scikit-learn/issues/21755 */display: inline-block !important;position: relative;}#sk-container-id-3 div.sk-text-repr-fallback {display: none;}</style><div id=\"sk-container-id-3\" class=\"sk-top-container\"><div class=\"sk-text-repr-fallback\"><pre>LinearSVC(random_state=42)</pre><b>In a Jupyter environment, please rerun this cell to show the HTML representation or trust the notebook. <br />On GitHub, the HTML representation is unable to render, please try loading this page with nbviewer.org.</b></div><div class=\"sk-container\" hidden><div class=\"sk-item\"><div class=\"sk-estimator sk-toggleable\"><input class=\"sk-toggleable__control sk-hidden--visually\" id=\"sk-estimator-id-3\" type=\"checkbox\" checked><label for=\"sk-estimator-id-3\" class=\"sk-toggleable__label sk-toggleable__label-arrow\">LinearSVC</label><div class=\"sk-toggleable__content\"><pre>LinearSVC(random_state=42)</pre></div></div></div></div></div>"
            ],
            "text/plain": [
              "LinearSVC(random_state=42)"
            ]
          },
          "execution_count": 178,
          "metadata": {},
          "output_type": "execute_result"
        }
      ],
      "source": [
        "X_test_total, X_train_total, y_train_total, y_test_total = data['x_test'], data['x_train'], data['y_train'], data['y_test']\n",
        "\n",
        "# flatten\n",
        "X_train_flat2 = np.array([flatten_image(img) for img in X_train_total]) \n",
        "X_test_flat2 = np.array([flatten_image(img) for img in X_test_total]) \n",
        "\n",
        "# Scandart Scaler\n",
        "scaler = StandardScaler() \n",
        "X_train_scaled = scaler.fit_transform(X_train_flat2)\n",
        "X_test_scaled = scaler.transform(X_test_flat2)\n",
        "\n",
        "# PCA\n",
        "pca = PCA(n_components=128, random_state=42) \n",
        "X_train_flat2 = pca.fit_transform(X_train_scaled)\n",
        "X_test_flat2 = pca.transform(X_test_scaled)\n",
        "\n",
        "# LinearSVC\n",
        "clf = LinearSVC(random_state=42)\n",
        "clf.fit(X_train_flat2, y_train_total)"
      ]
    },
    {
      "cell_type": "code",
      "execution_count": 179,
      "metadata": {
        "id": "VtwS1oFs9DwS"
      },
      "outputs": [
        {
          "name": "stdout",
          "output_type": "stream",
          "text": [
            "Accuracy on the test set: 0.9079\n"
          ]
        }
      ],
      "source": [
        "# calculate accuracy\n",
        "acc = clf.score(X_test_flat2, y_test_total)\n",
        "print(f\"Accuracy on the test set: {accuracy}\")"
      ]
    },
    {
      "cell_type": "markdown",
      "metadata": {},
      "source": [
        "The **SVD** accuracy in analyzing the MNIST array was **94.85%**. The **LinearSVC** accuracy was **90.79%**. This means that a model trained with SVD is better in this case.\n",
        "\n",
        "The accuracy of a particular model depends on many factors, such as:\n",
        "- the quality of the data, the data must be clean and correct, it's like teaching a child profanity with a bunch of grammatical and logical errors, and then expect him to write you a 39 Shakespeare play.\n",
        "- the balance of different data, that is, if we train our model to recognize handwritten digits, then the ratio of all digits to each other should be approximately the same. If, for example, we have 10,000 images of handwritten numbers and 9,000 of them are images of the number 1, then the results will be unsatisfactory.\n",
        "- the amount of data (in most cases, the more data, the better, but only if the above conditions are met).\n",
        "\n",
        "I think there are many other factors, but I have listed the main ones in my opinion."
      ]
    }
  ],
  "metadata": {
    "celltoolbar": "Create Assignment",
    "colab": {
      "provenance": [],
      "toc_visible": true
    },
    "kernelspec": {
      "display_name": "Python 3",
      "language": "python",
      "name": "python3"
    },
    "language_info": {
      "codemirror_mode": {
        "name": "ipython",
        "version": 3
      },
      "file_extension": ".py",
      "mimetype": "text/x-python",
      "name": "python",
      "nbconvert_exporter": "python",
      "pygments_lexer": "ipython3",
      "version": "3.11.4"
    }
  },
  "nbformat": 4,
  "nbformat_minor": 0
}
